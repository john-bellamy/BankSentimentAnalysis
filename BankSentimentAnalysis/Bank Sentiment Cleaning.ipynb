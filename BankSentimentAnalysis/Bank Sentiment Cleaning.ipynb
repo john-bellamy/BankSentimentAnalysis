{
 "cells": [
  {
   "cell_type": "code",
   "execution_count": 46,
   "metadata": {},
   "outputs": [],
   "source": [
    "import got3\n",
    "import pandas as pd\n",
    "from  TextCleaner2000.TextCleaner import TextCleaner"
   ]
  },
  {
   "cell_type": "code",
   "execution_count": 5,
   "metadata": {},
   "outputs": [
    {
     "data": {
      "text/plain": [
       "<got3.manager.TweetCriteria.TweetCriteria at 0x243e129b5f8>"
      ]
     },
     "execution_count": 5,
     "metadata": {},
     "output_type": "execute_result"
    }
   ],
   "source": [
    "boaCriteria = got3.manager.TweetCriteria()\n",
    "boaCriteria.setQuerySearch(\"bank of america\")\n",
    "boaCriteria.setSince(\"2018-01-03\")\n",
    "boaCriteria.setUntil(\"2018-06-30\")\n",
    "boaCriteria.setMaxTweets(1500)"
   ]
  },
  {
   "cell_type": "code",
   "execution_count": 6,
   "metadata": {},
   "outputs": [],
   "source": [
    "boa_tweets = got3.manager.TweetManager.getTweets(boaCriteria)"
   ]
  },
  {
   "cell_type": "code",
   "execution_count": 8,
   "metadata": {},
   "outputs": [],
   "source": [
    "boa_tweet_list = [boa_tweets[x].text for x in range(len(boa_tweets))]"
   ]
  },
  {
   "cell_type": "code",
   "execution_count": 9,
   "metadata": {},
   "outputs": [
    {
     "data": {
      "text/plain": [
       "['Walmart $ WMT Given a $98.00 Price Target at Bank of America http://theenterpriseleader.com/?p=795105',\n",
       " 'You think you’ve seen it all. And then you see a man at Bank of America with a live parrot on his shoulder, berating a clerk because he “won’t give me my f*cking money.” And you realize there is so much more still left to see.',\n",
       " 'So just saw message now. He said he didn’t hear from me so chopped it up in a million pieces. But he works for Bank of America . Now I got to go to bank tomorrow morning',\n",
       " \"what's Bank of America\",\n",
       " 'My favourite bofa jokes is when you detail a conversation about bank of America',\n",
       " 'Is the digital age about *YOU* or the *BUSINESS* --- sorry, it is still the business first. @ BankofAmerica will not let me opt-out of their spam, trying to entice me to fall in love with Erica. minus points for anger!',\n",
       " 'Industrial Logistics Properties Trust $ ILPT Rating Reiterated by Bank of America http://tickerreport.com/?p=3605628',\n",
       " 'Ollie’s Bargain Outlet $ OLLI Downgraded by Bank of America to “Underperform” http://baseballnewssource.com/?p=2285385',\n",
       " 'Thank you, Bank of America, for your generosity in supporting Western Nevada College @ WNCnevada . Your donation will benefit Jump Start College students who are working on their associates degrees while still in high school!',\n",
       " 'CenterPoint Energy $ CNP Upgraded by Bank of America to Neutral http://zolmax.com/?p=2351890']"
      ]
     },
     "execution_count": 9,
     "metadata": {},
     "output_type": "execute_result"
    }
   ],
   "source": [
    "boa_tweet_list[0:10]"
   ]
  },
  {
   "cell_type": "code",
   "execution_count": 10,
   "metadata": {},
   "outputs": [],
   "source": [
    "boa_tweets_df = pd.DataFrame(boa_tweet_list)"
   ]
  },
  {
   "cell_type": "code",
   "execution_count": 12,
   "metadata": {},
   "outputs": [],
   "source": [
    "boa_tweets_df.columns = ['Tweets']"
   ]
  },
  {
   "cell_type": "code",
   "execution_count": 13,
   "metadata": {},
   "outputs": [
    {
     "data": {
      "text/html": [
       "<div>\n",
       "<style scoped>\n",
       "    .dataframe tbody tr th:only-of-type {\n",
       "        vertical-align: middle;\n",
       "    }\n",
       "\n",
       "    .dataframe tbody tr th {\n",
       "        vertical-align: top;\n",
       "    }\n",
       "\n",
       "    .dataframe thead th {\n",
       "        text-align: right;\n",
       "    }\n",
       "</style>\n",
       "<table border=\"1\" class=\"dataframe\">\n",
       "  <thead>\n",
       "    <tr style=\"text-align: right;\">\n",
       "      <th></th>\n",
       "      <th>Tweets</th>\n",
       "    </tr>\n",
       "  </thead>\n",
       "  <tbody>\n",
       "    <tr>\n",
       "      <th>0</th>\n",
       "      <td>Walmart $ WMT Given a $98.00 Price Target at B...</td>\n",
       "    </tr>\n",
       "    <tr>\n",
       "      <th>1</th>\n",
       "      <td>You think you’ve seen it all. And then you see...</td>\n",
       "    </tr>\n",
       "    <tr>\n",
       "      <th>2</th>\n",
       "      <td>So just saw message now. He said he didn’t hea...</td>\n",
       "    </tr>\n",
       "    <tr>\n",
       "      <th>3</th>\n",
       "      <td>what's Bank of America</td>\n",
       "    </tr>\n",
       "    <tr>\n",
       "      <th>4</th>\n",
       "      <td>My favourite bofa jokes is when you detail a c...</td>\n",
       "    </tr>\n",
       "  </tbody>\n",
       "</table>\n",
       "</div>"
      ],
      "text/plain": [
       "                                              Tweets\n",
       "0  Walmart $ WMT Given a $98.00 Price Target at B...\n",
       "1  You think you’ve seen it all. And then you see...\n",
       "2  So just saw message now. He said he didn’t hea...\n",
       "3                             what's Bank of America\n",
       "4  My favourite bofa jokes is when you detail a c..."
      ]
     },
     "execution_count": 13,
     "metadata": {},
     "output_type": "execute_result"
    }
   ],
   "source": [
    "boa_tweets_df.head()"
   ]
  },
  {
   "cell_type": "code",
   "execution_count": 15,
   "metadata": {},
   "outputs": [
    {
     "data": {
      "text/plain": [
       "<got3.manager.TweetCriteria.TweetCriteria at 0x243e43d8978>"
      ]
     },
     "execution_count": 15,
     "metadata": {},
     "output_type": "execute_result"
    }
   ],
   "source": [
    "chaseCriteria = got3.manager.TweetCriteria()\n",
    "chaseCriteria.setQuerySearch(\"chase bank\")\n",
    "chaseCriteria.setSince(\"2018-01-03\")\n",
    "chaseCriteria.setUntil(\"2018-06-30\")\n",
    "chaseCriteria.setMaxTweets(1500)"
   ]
  },
  {
   "cell_type": "code",
   "execution_count": 16,
   "metadata": {},
   "outputs": [],
   "source": [
    "chase_tweets = got3.manager.TweetManager.getTweets(chaseCriteria)"
   ]
  },
  {
   "cell_type": "code",
   "execution_count": 17,
   "metadata": {},
   "outputs": [],
   "source": [
    "chase_tweet_list = [chase_tweets[x].text for x in range(len(chase_tweets))]"
   ]
  },
  {
   "cell_type": "code",
   "execution_count": 18,
   "metadata": {},
   "outputs": [],
   "source": [
    "chase_tweet_df = pd.DataFrame(chase_tweet_list)"
   ]
  },
  {
   "cell_type": "code",
   "execution_count": 19,
   "metadata": {},
   "outputs": [],
   "source": [
    "chase_tweet_df.columns = ['Tweets']"
   ]
  },
  {
   "cell_type": "code",
   "execution_count": 20,
   "metadata": {},
   "outputs": [
    {
     "data": {
      "text/plain": [
       "<got3.manager.TweetCriteria.TweetCriteria at 0x243e4557160>"
      ]
     },
     "execution_count": 20,
     "metadata": {},
     "output_type": "execute_result"
    }
   ],
   "source": [
    "wellsCriteria = got3.manager.TweetCriteria()\n",
    "wellsCriteria.setQuerySearch(\"wells fargo bank\")\n",
    "wellsCriteria.setSince(\"2018-01-03\")\n",
    "wellsCriteria.setUntil(\"2018-06-30\")\n",
    "wellsCriteria.setMaxTweets(1500)"
   ]
  },
  {
   "cell_type": "code",
   "execution_count": 24,
   "metadata": {},
   "outputs": [],
   "source": [
    "wells_tweets = got3.manager.TweetManager.getTweets(wellsCriteria)"
   ]
  },
  {
   "cell_type": "code",
   "execution_count": 25,
   "metadata": {},
   "outputs": [],
   "source": [
    "wells_tweet_list = [wells_tweets[x].text for x in range(len(wells_tweets))]"
   ]
  },
  {
   "cell_type": "code",
   "execution_count": 26,
   "metadata": {},
   "outputs": [],
   "source": [
    "wells_tweet_df = pd.DataFrame(wells_tweet_list)"
   ]
  },
  {
   "cell_type": "code",
   "execution_count": 27,
   "metadata": {},
   "outputs": [],
   "source": [
    "wells_tweet_df.columns = ['Tweets']"
   ]
  },
  {
   "cell_type": "code",
   "execution_count": 32,
   "metadata": {},
   "outputs": [
    {
     "data": {
      "text/plain": [
       "Tweets    1500\n",
       "dtype: int64"
      ]
     },
     "execution_count": 32,
     "metadata": {},
     "output_type": "execute_result"
    }
   ],
   "source": [
    "boa_tweets_df.count()"
   ]
  },
  {
   "cell_type": "code",
   "execution_count": 47,
   "metadata": {},
   "outputs": [],
   "source": [
    "cleaner = TextCleaner(\"TextCleaner2000\")"
   ]
  },
  {
   "cell_type": "code",
   "execution_count": 38,
   "metadata": {},
   "outputs": [],
   "source": [
    "#Remove non-alpha characters and lower-case\n",
    "wells_tweet_df[\"Alpha-Lower-Tweet\"] = cleaner.alpha_iterator(wells_tweet_df[\"Tweets\"])\n",
    "boa_tweets_df[\"Alpha-Lower-Tweet\"] = cleaner.alpha_iterator(boa_tweets_df[\"Tweets\"])\n",
    "chase_tweet_df[\"Alpha-Lower-Tweet\"] = cleaner.alpha_iterator(chase_tweet_df[\"Tweets\"])"
   ]
  },
  {
   "cell_type": "code",
   "execution_count": 37,
   "metadata": {},
   "outputs": [
    {
     "data": {
      "text/html": [
       "<div>\n",
       "<style scoped>\n",
       "    .dataframe tbody tr th:only-of-type {\n",
       "        vertical-align: middle;\n",
       "    }\n",
       "\n",
       "    .dataframe tbody tr th {\n",
       "        vertical-align: top;\n",
       "    }\n",
       "\n",
       "    .dataframe thead th {\n",
       "        text-align: right;\n",
       "    }\n",
       "</style>\n",
       "<table border=\"1\" class=\"dataframe\">\n",
       "  <thead>\n",
       "    <tr style=\"text-align: right;\">\n",
       "      <th></th>\n",
       "      <th>Tweets</th>\n",
       "      <th>Alpha-Lower-Tweet</th>\n",
       "    </tr>\n",
       "  </thead>\n",
       "  <tbody>\n",
       "    <tr>\n",
       "      <th>0</th>\n",
       "      <td>@ WellsFargo referred to elderly black people ...</td>\n",
       "      <td>wellsfargo referred to elderly black people a...</td>\n",
       "    </tr>\n",
       "    <tr>\n",
       "      <th>1</th>\n",
       "      <td>You all are illegal/unconstitutional SAYS a Fe...</td>\n",
       "      <td>you all are illegal unconstitutional says a fe...</td>\n",
       "    </tr>\n",
       "    <tr>\n",
       "      <th>2</th>\n",
       "      <td>Analytic Consultant 2 - Community Bank Risk Su...</td>\n",
       "      <td>analytic consultant   community bank risk supe...</td>\n",
       "    </tr>\n",
       "    <tr>\n",
       "      <th>3</th>\n",
       "      <td>@ WellsFargo so if a landlord opens a business...</td>\n",
       "      <td>wellsfargo so if a landlord opens a business ...</td>\n",
       "    </tr>\n",
       "    <tr>\n",
       "      <th>4</th>\n",
       "      <td>Of the banks that passed the U.S.-based stress...</td>\n",
       "      <td>of the banks that passed the u s based stress ...</td>\n",
       "    </tr>\n",
       "  </tbody>\n",
       "</table>\n",
       "</div>"
      ],
      "text/plain": [
       "                                              Tweets  \\\n",
       "0  @ WellsFargo referred to elderly black people ...   \n",
       "1  You all are illegal/unconstitutional SAYS a Fe...   \n",
       "2  Analytic Consultant 2 - Community Bank Risk Su...   \n",
       "3  @ WellsFargo so if a landlord opens a business...   \n",
       "4  Of the banks that passed the U.S.-based stress...   \n",
       "\n",
       "                                   Alpha-Lower-Tweet  \n",
       "0   wellsfargo referred to elderly black people a...  \n",
       "1  you all are illegal unconstitutional says a fe...  \n",
       "2  analytic consultant   community bank risk supe...  \n",
       "3   wellsfargo so if a landlord opens a business ...  \n",
       "4  of the banks that passed the u s based stress ...  "
      ]
     },
     "execution_count": 37,
     "metadata": {},
     "output_type": "execute_result"
    }
   ],
   "source": [
    "wells_tweet_df.head()"
   ]
  },
  {
   "cell_type": "code",
   "execution_count": 48,
   "metadata": {},
   "outputs": [],
   "source": [
    "#Remove common stop words\n",
    "wells_tweet_df[\"Clean-Tweets\"] = cleaner.stop_word_iterator(wells_tweet_df[\"Alpha-Lower-Tweet\"])\n",
    "boa_tweets_df[\"Clean-Tweets\"] = cleaner.stop_word_iterator(boa_tweets_df[\"Alpha-Lower-Tweet\"])\n",
    "chase_tweet_df[\"Clean-Tweets\"] = cleaner.stop_word_iterator(chase_tweet_df[\"Alpha-Lower-Tweet\"])"
   ]
  },
  {
   "cell_type": "code",
   "execution_count": 49,
   "metadata": {},
   "outputs": [
    {
     "data": {
      "text/html": [
       "<div>\n",
       "<style scoped>\n",
       "    .dataframe tbody tr th:only-of-type {\n",
       "        vertical-align: middle;\n",
       "    }\n",
       "\n",
       "    .dataframe tbody tr th {\n",
       "        vertical-align: top;\n",
       "    }\n",
       "\n",
       "    .dataframe thead th {\n",
       "        text-align: right;\n",
       "    }\n",
       "</style>\n",
       "<table border=\"1\" class=\"dataframe\">\n",
       "  <thead>\n",
       "    <tr style=\"text-align: right;\">\n",
       "      <th></th>\n",
       "      <th>Tweets</th>\n",
       "      <th>Alpha-Lower-Tweet</th>\n",
       "      <th>Clean-Tweets</th>\n",
       "    </tr>\n",
       "  </thead>\n",
       "  <tbody>\n",
       "    <tr>\n",
       "      <th>0</th>\n",
       "      <td>@ WellsFargo referred to elderly black people ...</td>\n",
       "      <td>wellsfargo referred to elderly black people a...</td>\n",
       "      <td>wellsfargo referred elderly black people \"mud...</td>\n",
       "    </tr>\n",
       "    <tr>\n",
       "      <th>1</th>\n",
       "      <td>You all are illegal/unconstitutional SAYS a Fe...</td>\n",
       "      <td>you all are illegal unconstitutional says a fe...</td>\n",
       "      <td>illegal unconstitutional says federal court p...</td>\n",
       "    </tr>\n",
       "    <tr>\n",
       "      <th>2</th>\n",
       "      <td>Analytic Consultant 2 - Community Bank Risk Su...</td>\n",
       "      <td>analytic consultant   community bank risk supe...</td>\n",
       "      <td>analytic consultant   community bank risk supe...</td>\n",
       "    </tr>\n",
       "    <tr>\n",
       "      <th>3</th>\n",
       "      <td>@ WellsFargo so if a landlord opens a business...</td>\n",
       "      <td>wellsfargo so if a landlord opens a business ...</td>\n",
       "      <td>wellsfargo landlord opens business acct gives...</td>\n",
       "    </tr>\n",
       "    <tr>\n",
       "      <th>4</th>\n",
       "      <td>Of the banks that passed the U.S.-based stress...</td>\n",
       "      <td>of the banks that passed the u s based stress ...</td>\n",
       "      <td>banks passed based stress tests wells fargo b...</td>\n",
       "    </tr>\n",
       "  </tbody>\n",
       "</table>\n",
       "</div>"
      ],
      "text/plain": [
       "                                              Tweets  \\\n",
       "0  @ WellsFargo referred to elderly black people ...   \n",
       "1  You all are illegal/unconstitutional SAYS a Fe...   \n",
       "2  Analytic Consultant 2 - Community Bank Risk Su...   \n",
       "3  @ WellsFargo so if a landlord opens a business...   \n",
       "4  Of the banks that passed the U.S.-based stress...   \n",
       "\n",
       "                                   Alpha-Lower-Tweet  \\\n",
       "0   wellsfargo referred to elderly black people a...   \n",
       "1  you all are illegal unconstitutional says a fe...   \n",
       "2  analytic consultant   community bank risk supe...   \n",
       "3   wellsfargo so if a landlord opens a business ...   \n",
       "4  of the banks that passed the u s based stress ...   \n",
       "\n",
       "                                        Clean-Tweets  \n",
       "0   wellsfargo referred elderly black people \"mud...  \n",
       "1   illegal unconstitutional says federal court p...  \n",
       "2  analytic consultant   community bank risk supe...  \n",
       "3   wellsfargo landlord opens business acct gives...  \n",
       "4   banks passed based stress tests wells fargo b...  "
      ]
     },
     "execution_count": 49,
     "metadata": {},
     "output_type": "execute_result"
    }
   ],
   "source": [
    "wells_tweet_df.head()"
   ]
  },
  {
   "cell_type": "code",
   "execution_count": 55,
   "metadata": {},
   "outputs": [],
   "source": [
    "wells_tweet_df[\"Bank Name\"] = \"Wells Fargo Bank\""
   ]
  },
  {
   "cell_type": "code",
   "execution_count": 56,
   "metadata": {},
   "outputs": [
    {
     "data": {
      "text/html": [
       "<div>\n",
       "<style scoped>\n",
       "    .dataframe tbody tr th:only-of-type {\n",
       "        vertical-align: middle;\n",
       "    }\n",
       "\n",
       "    .dataframe tbody tr th {\n",
       "        vertical-align: top;\n",
       "    }\n",
       "\n",
       "    .dataframe thead th {\n",
       "        text-align: right;\n",
       "    }\n",
       "</style>\n",
       "<table border=\"1\" class=\"dataframe\">\n",
       "  <thead>\n",
       "    <tr style=\"text-align: right;\">\n",
       "      <th></th>\n",
       "      <th>Tweets</th>\n",
       "      <th>Alpha-Lower-Tweet</th>\n",
       "      <th>Clean-Tweets</th>\n",
       "      <th>Bank Name</th>\n",
       "    </tr>\n",
       "  </thead>\n",
       "  <tbody>\n",
       "    <tr>\n",
       "      <th>0</th>\n",
       "      <td>@ WellsFargo referred to elderly black people ...</td>\n",
       "      <td>wellsfargo referred to elderly black people a...</td>\n",
       "      <td>wellsfargo referred elderly black people \"mud...</td>\n",
       "      <td>Wells Fargo Bank</td>\n",
       "    </tr>\n",
       "    <tr>\n",
       "      <th>1</th>\n",
       "      <td>You all are illegal/unconstitutional SAYS a Fe...</td>\n",
       "      <td>you all are illegal unconstitutional says a fe...</td>\n",
       "      <td>illegal unconstitutional says federal court p...</td>\n",
       "      <td>Wells Fargo Bank</td>\n",
       "    </tr>\n",
       "    <tr>\n",
       "      <th>2</th>\n",
       "      <td>Analytic Consultant 2 - Community Bank Risk Su...</td>\n",
       "      <td>analytic consultant   community bank risk supe...</td>\n",
       "      <td>analytic consultant   community bank risk supe...</td>\n",
       "      <td>Wells Fargo Bank</td>\n",
       "    </tr>\n",
       "    <tr>\n",
       "      <th>3</th>\n",
       "      <td>@ WellsFargo so if a landlord opens a business...</td>\n",
       "      <td>wellsfargo so if a landlord opens a business ...</td>\n",
       "      <td>wellsfargo landlord opens business acct gives...</td>\n",
       "      <td>Wells Fargo Bank</td>\n",
       "    </tr>\n",
       "    <tr>\n",
       "      <th>4</th>\n",
       "      <td>Of the banks that passed the U.S.-based stress...</td>\n",
       "      <td>of the banks that passed the u s based stress ...</td>\n",
       "      <td>banks passed based stress tests wells fargo b...</td>\n",
       "      <td>Wells Fargo Bank</td>\n",
       "    </tr>\n",
       "  </tbody>\n",
       "</table>\n",
       "</div>"
      ],
      "text/plain": [
       "                                              Tweets  \\\n",
       "0  @ WellsFargo referred to elderly black people ...   \n",
       "1  You all are illegal/unconstitutional SAYS a Fe...   \n",
       "2  Analytic Consultant 2 - Community Bank Risk Su...   \n",
       "3  @ WellsFargo so if a landlord opens a business...   \n",
       "4  Of the banks that passed the U.S.-based stress...   \n",
       "\n",
       "                                   Alpha-Lower-Tweet  \\\n",
       "0   wellsfargo referred to elderly black people a...   \n",
       "1  you all are illegal unconstitutional says a fe...   \n",
       "2  analytic consultant   community bank risk supe...   \n",
       "3   wellsfargo so if a landlord opens a business ...   \n",
       "4  of the banks that passed the u s based stress ...   \n",
       "\n",
       "                                        Clean-Tweets         Bank Name  \n",
       "0   wellsfargo referred elderly black people \"mud...  Wells Fargo Bank  \n",
       "1   illegal unconstitutional says federal court p...  Wells Fargo Bank  \n",
       "2  analytic consultant   community bank risk supe...  Wells Fargo Bank  \n",
       "3   wellsfargo landlord opens business acct gives...  Wells Fargo Bank  \n",
       "4   banks passed based stress tests wells fargo b...  Wells Fargo Bank  "
      ]
     },
     "execution_count": 56,
     "metadata": {},
     "output_type": "execute_result"
    }
   ],
   "source": [
    "wells_tweet_df.head()"
   ]
  },
  {
   "cell_type": "code",
   "execution_count": 57,
   "metadata": {},
   "outputs": [],
   "source": [
    "boa_tweets_df[\"Bank Name\"] = \"Bank of America\""
   ]
  },
  {
   "cell_type": "code",
   "execution_count": 58,
   "metadata": {},
   "outputs": [],
   "source": [
    "chase_tweet_df[\"Bank Name\"] = \"Chase Bank\""
   ]
  },
  {
   "cell_type": "code",
   "execution_count": 75,
   "metadata": {},
   "outputs": [],
   "source": [
    "bank_tweets = pd.DataFrame()"
   ]
  },
  {
   "cell_type": "code",
   "execution_count": 76,
   "metadata": {},
   "outputs": [],
   "source": [
    "bank_tweets = bank_tweets.append(boa_tweets_df)"
   ]
  },
  {
   "cell_type": "code",
   "execution_count": 77,
   "metadata": {},
   "outputs": [
    {
     "data": {
      "text/html": [
       "<div>\n",
       "<style scoped>\n",
       "    .dataframe tbody tr th:only-of-type {\n",
       "        vertical-align: middle;\n",
       "    }\n",
       "\n",
       "    .dataframe tbody tr th {\n",
       "        vertical-align: top;\n",
       "    }\n",
       "\n",
       "    .dataframe thead th {\n",
       "        text-align: right;\n",
       "    }\n",
       "</style>\n",
       "<table border=\"1\" class=\"dataframe\">\n",
       "  <thead>\n",
       "    <tr style=\"text-align: right;\">\n",
       "      <th></th>\n",
       "      <th>Tweets</th>\n",
       "      <th>Alpha-Lower-Tweet</th>\n",
       "      <th>Clean-Tweets</th>\n",
       "      <th>Bank Name</th>\n",
       "    </tr>\n",
       "  </thead>\n",
       "  <tbody>\n",
       "    <tr>\n",
       "      <th>0</th>\n",
       "      <td>Walmart $ WMT Given a $98.00 Price Target at B...</td>\n",
       "      <td>walmart  wmt given a  price target at bank of ...</td>\n",
       "      <td>walmart  wmt given  price target bank america ...</td>\n",
       "      <td>Bank of America</td>\n",
       "    </tr>\n",
       "    <tr>\n",
       "      <th>1</th>\n",
       "      <td>You think you’ve seen it all. And then you see...</td>\n",
       "      <td>you think you’ve seen it all and then you see ...</td>\n",
       "      <td>think you’ve seen man bank america live parro...</td>\n",
       "      <td>Bank of America</td>\n",
       "    </tr>\n",
       "    <tr>\n",
       "      <th>2</th>\n",
       "      <td>So just saw message now. He said he didn’t hea...</td>\n",
       "      <td>so just saw message now he said he didn’t hear...</td>\n",
       "      <td>just saw message said didn’t hear chopped mil...</td>\n",
       "      <td>Bank of America</td>\n",
       "    </tr>\n",
       "    <tr>\n",
       "      <th>3</th>\n",
       "      <td>what's Bank of America</td>\n",
       "      <td>what s bank of america</td>\n",
       "      <td>bank america</td>\n",
       "      <td>Bank of America</td>\n",
       "    </tr>\n",
       "    <tr>\n",
       "      <th>4</th>\n",
       "      <td>My favourite bofa jokes is when you detail a c...</td>\n",
       "      <td>my favourite bofa jokes is when you detail a c...</td>\n",
       "      <td>favourite bofa jokes conversation bank america</td>\n",
       "      <td>Bank of America</td>\n",
       "    </tr>\n",
       "  </tbody>\n",
       "</table>\n",
       "</div>"
      ],
      "text/plain": [
       "                                              Tweets  \\\n",
       "0  Walmart $ WMT Given a $98.00 Price Target at B...   \n",
       "1  You think you’ve seen it all. And then you see...   \n",
       "2  So just saw message now. He said he didn’t hea...   \n",
       "3                             what's Bank of America   \n",
       "4  My favourite bofa jokes is when you detail a c...   \n",
       "\n",
       "                                   Alpha-Lower-Tweet  \\\n",
       "0  walmart  wmt given a  price target at bank of ...   \n",
       "1  you think you’ve seen it all and then you see ...   \n",
       "2  so just saw message now he said he didn’t hear...   \n",
       "3                             what s bank of america   \n",
       "4  my favourite bofa jokes is when you detail a c...   \n",
       "\n",
       "                                        Clean-Tweets        Bank Name  \n",
       "0  walmart  wmt given  price target bank america ...  Bank of America  \n",
       "1   think you’ve seen man bank america live parro...  Bank of America  \n",
       "2   just saw message said didn’t hear chopped mil...  Bank of America  \n",
       "3                                       bank america  Bank of America  \n",
       "4     favourite bofa jokes conversation bank america  Bank of America  "
      ]
     },
     "execution_count": 77,
     "metadata": {},
     "output_type": "execute_result"
    }
   ],
   "source": [
    "bank_tweets.head()"
   ]
  },
  {
   "cell_type": "code",
   "execution_count": 78,
   "metadata": {},
   "outputs": [],
   "source": [
    "bank_tweets = bank_tweets.append(chase_tweet_df)"
   ]
  },
  {
   "cell_type": "code",
   "execution_count": 79,
   "metadata": {},
   "outputs": [],
   "source": [
    "bank_tweets = bank_tweets.append(wells_tweet_df)"
   ]
  },
  {
   "cell_type": "code",
   "execution_count": 80,
   "metadata": {},
   "outputs": [
    {
     "data": {
      "text/html": [
       "<div>\n",
       "<style scoped>\n",
       "    .dataframe tbody tr th:only-of-type {\n",
       "        vertical-align: middle;\n",
       "    }\n",
       "\n",
       "    .dataframe tbody tr th {\n",
       "        vertical-align: top;\n",
       "    }\n",
       "\n",
       "    .dataframe thead th {\n",
       "        text-align: right;\n",
       "    }\n",
       "</style>\n",
       "<table border=\"1\" class=\"dataframe\">\n",
       "  <thead>\n",
       "    <tr style=\"text-align: right;\">\n",
       "      <th></th>\n",
       "      <th>Tweets</th>\n",
       "      <th>Alpha-Lower-Tweet</th>\n",
       "      <th>Clean-Tweets</th>\n",
       "      <th>Bank Name</th>\n",
       "    </tr>\n",
       "  </thead>\n",
       "  <tbody>\n",
       "    <tr>\n",
       "      <th>0</th>\n",
       "      <td>Walmart $ WMT Given a $98.00 Price Target at B...</td>\n",
       "      <td>walmart  wmt given a  price target at bank of ...</td>\n",
       "      <td>walmart  wmt given  price target bank america ...</td>\n",
       "      <td>Bank of America</td>\n",
       "    </tr>\n",
       "    <tr>\n",
       "      <th>1</th>\n",
       "      <td>You think you’ve seen it all. And then you see...</td>\n",
       "      <td>you think you’ve seen it all and then you see ...</td>\n",
       "      <td>think you’ve seen man bank america live parro...</td>\n",
       "      <td>Bank of America</td>\n",
       "    </tr>\n",
       "    <tr>\n",
       "      <th>2</th>\n",
       "      <td>So just saw message now. He said he didn’t hea...</td>\n",
       "      <td>so just saw message now he said he didn’t hear...</td>\n",
       "      <td>just saw message said didn’t hear chopped mil...</td>\n",
       "      <td>Bank of America</td>\n",
       "    </tr>\n",
       "    <tr>\n",
       "      <th>3</th>\n",
       "      <td>what's Bank of America</td>\n",
       "      <td>what s bank of america</td>\n",
       "      <td>bank america</td>\n",
       "      <td>Bank of America</td>\n",
       "    </tr>\n",
       "    <tr>\n",
       "      <th>4</th>\n",
       "      <td>My favourite bofa jokes is when you detail a c...</td>\n",
       "      <td>my favourite bofa jokes is when you detail a c...</td>\n",
       "      <td>favourite bofa jokes conversation bank america</td>\n",
       "      <td>Bank of America</td>\n",
       "    </tr>\n",
       "  </tbody>\n",
       "</table>\n",
       "</div>"
      ],
      "text/plain": [
       "                                              Tweets  \\\n",
       "0  Walmart $ WMT Given a $98.00 Price Target at B...   \n",
       "1  You think you’ve seen it all. And then you see...   \n",
       "2  So just saw message now. He said he didn’t hea...   \n",
       "3                             what's Bank of America   \n",
       "4  My favourite bofa jokes is when you detail a c...   \n",
       "\n",
       "                                   Alpha-Lower-Tweet  \\\n",
       "0  walmart  wmt given a  price target at bank of ...   \n",
       "1  you think you’ve seen it all and then you see ...   \n",
       "2  so just saw message now he said he didn’t hear...   \n",
       "3                             what s bank of america   \n",
       "4  my favourite bofa jokes is when you detail a c...   \n",
       "\n",
       "                                        Clean-Tweets        Bank Name  \n",
       "0  walmart  wmt given  price target bank america ...  Bank of America  \n",
       "1   think you’ve seen man bank america live parro...  Bank of America  \n",
       "2   just saw message said didn’t hear chopped mil...  Bank of America  \n",
       "3                                       bank america  Bank of America  \n",
       "4     favourite bofa jokes conversation bank america  Bank of America  "
      ]
     },
     "execution_count": 80,
     "metadata": {},
     "output_type": "execute_result"
    }
   ],
   "source": [
    "bank_tweets.head() "
   ]
  },
  {
   "cell_type": "code",
   "execution_count": 83,
   "metadata": {},
   "outputs": [
    {
     "data": {
      "text/plain": [
       "array(['Bank of America', 'Chase Bank', 'Wells Fargo Bank'], dtype=object)"
      ]
     },
     "execution_count": 83,
     "metadata": {},
     "output_type": "execute_result"
    }
   ],
   "source": [
    "bank_tweets[\"Bank Name\"].unique()"
   ]
  },
  {
   "cell_type": "code",
   "execution_count": 84,
   "metadata": {},
   "outputs": [],
   "source": [
    "bank_tweets.to_csv('Data\\\\bank_tweets.csv',index=False)"
   ]
  }
 ],
 "metadata": {
  "kernelspec": {
   "display_name": "Python 3",
   "language": "python",
   "name": "python3"
  },
  "language_info": {
   "codemirror_mode": {
    "name": "ipython",
    "version": 3
   },
   "file_extension": ".py",
   "mimetype": "text/x-python",
   "name": "python",
   "nbconvert_exporter": "python",
   "pygments_lexer": "ipython3",
   "version": "3.6.4"
  }
 },
 "nbformat": 4,
 "nbformat_minor": 2
}
